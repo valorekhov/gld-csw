{
 "cells": [
  {
   "cell_type": "code",
   "execution_count": 1,
   "metadata": {},
   "outputs": [],
   "source": [
    "import matplotlib.pyplot as plt\n",
    "import numpy as np\n",
    "\n",
    "from q_csw import quantile\n",
    "from qd_csw import quantile_density"
   ]
  },
  {
   "cell_type": "code",
   "execution_count": 2,
   "metadata": {},
   "outputs": [
    {
     "data": {
      "image/png": "[encoded data removed]",
      "text/plain": [
       "<matplotlib.figure.Figure at 0x7f6f49ca52b0>"
      ]
     },
     "metadata": {},
     "output_type": "display_data"
    }
   ],
   "source": [
    "y = np.linspace(0.01,0.99,100, endpoint=True) \n",
    "\n",
    "mu = 0\n",
    "sigma = 0.5\n",
    "xi = -0.947\n",
    "epsilon =  0.082\n",
    "\n",
    "plt.figure(3, figsize=(4, 4))\n",
    "plt.plot(quantile(y, mu, sigma, xi, epsilon), 1 / quantile_density(y, sigma, xi, epsilon))\n",
    "plt.show()"
   ]
  },
  {
   "cell_type": "code",
   "execution_count": 3,
   "metadata": {},
   "outputs": [
    {
     "name": "stdout",
     "output_type": "stream",
     "text": [
      "The slowest run took 4.32 times longer than the fastest. This could mean that an intermediate result is being cached.\n",
      "10000 loops, best of 3: 27.1 µs per loop\n",
      "10000 loops, best of 3: 44 µs per loop\n"
     ]
    }
   ],
   "source": [
    "%timeit quantile(y, mu, sigma, xi, epsilon)\n",
    "%timeit quantile_density(y, sigma, xi, epsilon)"
   ]
  },
  {
   "cell_type": "code",
   "execution_count": 4,
   "metadata": {
    "collapsed": true
   },
   "outputs": [],
   "source": [
    "class GldCsw:   \n",
    "    def alpha(epsilon):\n",
    "        return 0.5 * ( (0.5 - epsilon)/ (np.sqrt(epsilon * (1-epsilon)) ) )\n",
    "    \n",
    "    def beta(xi):\n",
    "        return 0.5 * ( xi / np.sqrt(1 -  np.power(xi, 2)) )\n",
    "    \n",
    "    def S(u, xi, epsilon):        \n",
    "        alpha = GldCsw.alpha(epsilon)\n",
    "        beta = GldCsw.beta(xi)\n",
    "        if xi == 0 and epsilon == 0.5:\n",
    "            return np.log(u) - np.log(1-u)\n",
    "        if xi != 0 and epsilon == 0.5 *(1+xi):\n",
    "            return ln(u) - (1/(2*alpha)) * (np.power(1-u, 2 * alpha) - 1)\n",
    "        if xi != 0 and epsilon == 0.5 *(1-xi):\n",
    "            return (1/(2*beta))*(np.power(u, 2*beta) - 1) - np.log(1 - u)\n",
    "        return (1 / (alpha + beta)) * (np.power(u, alpha+beta) - 1) - (1 / (alpha - beta))*(np.power(1- u, alpha-beta) - 1)\n",
    "\n",
    "    def Q(u, mu, sigma, xi, epsilon):\n",
    "        S = GldCsw.S\n",
    "        return mu + sigma * ((S(u, xi, epsilon) - S(1/2, xi, epsilon))) / (S(3/4, xi, epsilon) - S(1/4, xi, epsilon))\n",
    "\n",
    "    def q(u, sigma, xi, epsilon):\n",
    "        S = GldCsw.S\n",
    "        alpha = GldCsw.alpha(epsilon)\n",
    "        beta = GldCsw.beta(xi)\n",
    "        d_du = np.power(u, alpha + beta - 1) + np.power(1 - u, alpha-beta-1)\n",
    "        return d_du * sigma / (S(.75, xi, epsilon) - S(.25, xi, epsilon)) "
   ]
  },
  {
   "cell_type": "code",
   "execution_count": 5,
   "metadata": {},
   "outputs": [
    {
     "name": "stdout",
     "output_type": "stream",
     "text": [
      "The slowest run took 34.10 times longer than the fastest. This could mean that an intermediate result is being cached.\n",
      "10000 loops, best of 3: 68 µs per loop\n",
      "10000 loops, best of 3: 48.3 µs per loop\n"
     ]
    }
   ],
   "source": [
    "%timeit GldCsw.Q(y, mu, sigma, xi, epsilon)\n",
    "%timeit GldCsw.q(y, sigma, xi, epsilon)"
   ]
  },
  {
   "cell_type": "code",
   "execution_count": null,
   "metadata": {
    "collapsed": true
   },
   "outputs": [],
   "source": []
  }
 ],
 "metadata": {
  "kernelspec": {
   "display_name": "Python 3",
   "language": "python",
   "name": "python3"
  },
  "language_info": {
   "codemirror_mode": {
    "name": "ipython",
    "version": 3
   },
   "file_extension": ".py",
   "mimetype": "text/x-python",
   "name": "python",
   "nbconvert_exporter": "python",
   "pygments_lexer": "ipython3",
   "version": "3.6.2"
  }
 },
 "nbformat": 4,
 "nbformat_minor": 2
}
